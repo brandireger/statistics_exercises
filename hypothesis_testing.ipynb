{
 "cells": [
  {
   "cell_type": "markdown",
   "metadata": {},
   "source": [
    "### Has the network latency gone up since we switched internet service providers?\n",
    "\n",
    "$H_0$: the network latency now is the same as the network latency before we switched \n",
    "\n",
    "$H_a$: the network latency now is higher than the network latency before we switched\n",
    "\n",
    "- True Positive:\n",
    "    - low p-value; reject $H_0$\n",
    "    - current latency is higher than past latency\n",
    "\n",
    "- True Negative:\n",
    "    - high p-value; fail to reject $H_0$\n",
    "    - current latency is the same as past latency\n",
    "\n",
    "- False Positive:\n",
    "    - low p-value; reject $H_0$\n",
    "    - We measured current latency on a day with high traffic, but past latency was measured on a day with low traffic\n",
    "    - We measured current latency at peak traffic, but past latency at midnight\n",
    "- False Negative:\n",
    "    - high p-value; fail to reject $H_0$\n",
    "    - We measured current latency on a single day, but past latency was an average of all past days\n",
    "    - We measured current latency on a day with low traffic, but past latency was measured on a day with high traffic"
   ]
  },
  {
   "cell_type": "markdown",
   "metadata": {},
   "source": [
    "### Is the website redesign any good?\n",
    "\n",
    "$H_0$: the average daily number of visitors to the website is less than or equal to the average number of daily visitors before the redesign\n",
    "\n",
    "$H_a$: the average daily number of visitors to the website is higher than the average number of daily visitors before the redesign\n",
    "\n",
    "- True Positive:\n",
    "    - low p-value; reject $H_0$\n",
    "    - the current average number of daily visitors is higher than the average number of daily visitors before the redesign\n",
    "\n",
    "- True Negative:\n",
    "    - high p-value; fail to reject $H_0$\n",
    "    - the average number of daily visitors to the website is the same as the average number of daily visitors before the redesign\n",
    "    - the average number of daily visitors to the website is less than the average number of daily visitors before the redesign\n",
    "\n",
    "- False Positive:\n",
    "    - low p-value; reject $H_0$\n",
    "    - there is an extra factor affecting visitors to the website, such as a post going viral, or more effort by social media marketing\n",
    "- False Negative:\n",
    "    - high p-value; fail to reject $H_0$\n",
    "    - we measured the number of visitors on different scales, like current visitors over a week and past visitors over a year\n",
    "    \n",
    "    \n",
    "Other Hypotheses to consider:\n",
    "- $H_0$: the number of advertisers contacting us is the same as before the redesign\n",
    "- $H_a$: the number of advertisers contacting us is higher than before the redesign\n",
    "\n",
    "- $H_0$: the average amount of time each visitor spent on our website is the same as before the redesign\n",
    "- $H_a$: the average amount of time each visitor spent on our website is greater than before the redesign\n",
    "\n",
    "- $H_0$: the average amount of clicks on ads is the same as before the redesign\n",
    "- $H_a$: the average amount of clicks on ads is greater than before the redesign"
   ]
  },
  {
   "cell_type": "markdown",
   "metadata": {},
   "source": [
    "### Is our television ad driving more sales?\n",
    "\n",
    "$H_0$: our current weekly sales are less than or equal to our average weekly sales before the ad\n",
    "\n",
    "$H_a$: our current weekly sales are greater than our average weekly sales before the ad\n",
    "\n",
    "- True Positive:\n",
    "    - low p-value; reject $H_0$\n",
    "    - current weekly sales is higher than past weekly sales\n",
    "\n",
    "- True Negative:\n",
    "    - high p-value; fail to reject $H_0$\n",
    "    - current weekly sales is less than or equal to past weekly sales\n",
    "\n",
    "- False Positive:\n",
    "    - low p-value; reject $H_0$\n",
    "    - We measured current weekly sales in tax refund season, but past weekly sales is an average\n",
    "    - We also initiated a social marketing campaign the same time as the new tv ad\n",
    "- False Negative:\n",
    "    - high p-value; fail to reject $H_0$\n",
    "    - We measured current weekly sales during coronavirus quarantine\n",
    "    - One of our newly hired salespeople turns out to be a jerk "
   ]
  },
  {
   "cell_type": "code",
   "execution_count": null,
   "metadata": {},
   "outputs": [],
   "source": []
  }
 ],
 "metadata": {
  "kernelspec": {
   "display_name": "Python 3",
   "language": "python",
   "name": "python3"
  },
  "language_info": {
   "codemirror_mode": {
    "name": "ipython",
    "version": 3
   },
   "file_extension": ".py",
   "mimetype": "text/x-python",
   "name": "python",
   "nbconvert_exporter": "python",
   "pygments_lexer": "ipython3",
   "version": "3.7.4"
  }
 },
 "nbformat": 4,
 "nbformat_minor": 2
}
